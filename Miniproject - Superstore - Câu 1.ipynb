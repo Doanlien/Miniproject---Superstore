{
 "cells": [
  {
   "cell_type": "markdown",
   "metadata": {},
   "source": [
    "# Mini project - Superstore"
   ]
  },
  {
   "cell_type": "markdown",
   "metadata": {},
   "source": [
    "\n",
    "Trong project này sử dụng bộ dữ liệu superstore về các hóa đơn được lưu trữ trong một file excel. File này chứa 3 bảng dữ liệu khác nhau bao gồm: Orders, Returns, People.\n",
    "\n",
    "Những yêu cầu với bộ dữ liệu trên:\n",
    "1. Lợi nhuận (profit) và doanh thu (sale) thay đổi như thế nào theo từng tháng?\n",
    "2. So sánh tỷ lệ lợi nhuận (profit/sale) của từng tiểu bang trong năm 2017 (dữ liệu mới chỉ có đến 2017)?\n",
    "3. Có bao nhiêu sản phẩm được trả lại (returned)? Những tiểu bang (state) và danh mục sản phẩm  (category) nào có tỷ lệ trả lại cao nhất?"
   ]
  },
  {
   "cell_type": "markdown",
   "metadata": {},
   "source": [
    "Mình dùng Mysql để lấy dữ liệu phục vụ việc trả lời các câu hỏi."
   ]
  },
  {
   "cell_type": "markdown",
   "metadata": {},
   "source": [
    "Câu 1. Với câu hỏi 1 thì mình cần 3 thông tin là lợi nhuận (profit), doanh thu (sale) và thời gian (order_date). Cả 3 cột này đều ở một bảng là order. dùng sql để lấy dữ thành bảng gồm các cột: Doanh thu, lợi nhuận, tỷ lệ lợi nhuận = lợi nhuận/doanh thu, Tháng năm.\n",
    "Dùng python để vẽ biểu đồ biểu diễn doanh thu, lợi nhuận, tỷ lệ lợi nhuận theo thời gian."
   ]
  },
  {
   "cell_type": "markdown",
   "metadata": {},
   "source": [
    "Câu 2. \n",
    "để trả lời câu hỏi này mình cần đến các thông tin: lợi nhuận (profit), doanh thu (sale), tiểu bang (state) và thời gian(order_date). \n",
    "Dùng sql để lấy dữ thành bảng gồm cột: tỷ lệ lợi nhuận và tiểu bang \n",
    "Câu 2 mình dùng Tableau để visualization"
   ]
  },
  {
   "cell_type": "markdown",
   "metadata": {},
   "source": [
    "Câu 3.\n",
    "để có tỷ lệ trả lại của mỗi tiểu bang và theo từng danh mục cần các thông tin: danh mục đơn hàng, tiểu bang và đơn hoàn trả từ 2 bảng orders và returns. 2 bảng này có cột chung là cột order_Id.\n",
    "Dùng sql để lấy dữ liệu thành bảng có các cột: Tổng hóa đơn, tổng hóa đơn trả, tỷ lệ trả hàng = tổng hóa đơn trả/tổng hóa đơn, tiểu bang, danh mục.\n",
    "Dùng Taleau để visualization."
   ]
  },
  {
   "cell_type": "code",
   "execution_count": 1,
   "metadata": {},
   "outputs": [],
   "source": [
    "#import các thư viện pandas và matplotlib\n",
    "import pandas as pd\n",
    "import matplotlib.pyplot as plt\n"
   ]
  },
  {
   "cell_type": "code",
   "execution_count": 2,
   "metadata": {},
   "outputs": [
    {
     "data": {
      "text/html": [
       "<div>\n",
       "<style scoped>\n",
       "    .dataframe tbody tr th:only-of-type {\n",
       "        vertical-align: middle;\n",
       "    }\n",
       "\n",
       "    .dataframe tbody tr th {\n",
       "        vertical-align: top;\n",
       "    }\n",
       "\n",
       "    .dataframe thead th {\n",
       "        text-align: right;\n",
       "    }\n",
       "</style>\n",
       "<table border=\"1\" class=\"dataframe\">\n",
       "  <thead>\n",
       "    <tr style=\"text-align: right;\">\n",
       "      <th></th>\n",
       "      <th>Doanh_Thu</th>\n",
       "      <th>Loi_Nhuan</th>\n",
       "      <th>Ty_Le_Loi_Nhuan</th>\n",
       "      <th>Thang_Nam</th>\n",
       "    </tr>\n",
       "  </thead>\n",
       "  <tbody>\n",
       "    <tr>\n",
       "      <td>0</td>\n",
       "      <td>159982.8736</td>\n",
       "      <td>14860.5060</td>\n",
       "      <td>0.09</td>\n",
       "      <td>2017-12</td>\n",
       "    </tr>\n",
       "    <tr>\n",
       "      <td>1</td>\n",
       "      <td>224472.0640</td>\n",
       "      <td>18034.6604</td>\n",
       "      <td>0.08</td>\n",
       "      <td>2017-11</td>\n",
       "    </tr>\n",
       "    <tr>\n",
       "      <td>2</td>\n",
       "      <td>150040.3644</td>\n",
       "      <td>18002.1898</td>\n",
       "      <td>0.12</td>\n",
       "      <td>2017-10</td>\n",
       "    </tr>\n",
       "    <tr>\n",
       "      <td>3</td>\n",
       "      <td>157530.3640</td>\n",
       "      <td>17658.4694</td>\n",
       "      <td>0.11</td>\n",
       "      <td>2017-9</td>\n",
       "    </tr>\n",
       "    <tr>\n",
       "      <td>4</td>\n",
       "      <td>116100.3320</td>\n",
       "      <td>14920.7708</td>\n",
       "      <td>0.13</td>\n",
       "      <td>2017-8</td>\n",
       "    </tr>\n",
       "  </tbody>\n",
       "</table>\n",
       "</div>"
      ],
      "text/plain": [
       "     Doanh_Thu   Loi_Nhuan  Ty_Le_Loi_Nhuan Thang_Nam\n",
       "0  159982.8736  14860.5060             0.09   2017-12\n",
       "1  224472.0640  18034.6604             0.08   2017-11\n",
       "2  150040.3644  18002.1898             0.12   2017-10\n",
       "3  157530.3640  17658.4694             0.11    2017-9\n",
       "4  116100.3320  14920.7708             0.13    2017-8"
      ]
     },
     "execution_count": 2,
     "metadata": {},
     "output_type": "execute_result"
    }
   ],
   "source": [
    "#input dữ liệu là file csv export từ mysql\n",
    "cau1 = pd.read_csv(\"D:\\cau1.csv\")\n",
    "cau1.head()"
   ]
  },
  {
   "cell_type": "code",
   "execution_count": 3,
   "metadata": {},
   "outputs": [
    {
     "data": {
      "text/html": [
       "<div>\n",
       "<style scoped>\n",
       "    .dataframe tbody tr th:only-of-type {\n",
       "        vertical-align: middle;\n",
       "    }\n",
       "\n",
       "    .dataframe tbody tr th {\n",
       "        vertical-align: top;\n",
       "    }\n",
       "\n",
       "    .dataframe thead th {\n",
       "        text-align: right;\n",
       "    }\n",
       "</style>\n",
       "<table border=\"1\" class=\"dataframe\">\n",
       "  <thead>\n",
       "    <tr style=\"text-align: right;\">\n",
       "      <th></th>\n",
       "      <th>Doanh_Thu</th>\n",
       "      <th>Loi_Nhuan</th>\n",
       "      <th>Ty_Le_Loi_Nhuan</th>\n",
       "      <th>Thang_Nam</th>\n",
       "    </tr>\n",
       "  </thead>\n",
       "  <tbody>\n",
       "    <tr>\n",
       "      <td>0</td>\n",
       "      <td>159982.8736</td>\n",
       "      <td>14860.5060</td>\n",
       "      <td>0.09</td>\n",
       "      <td>2017-12-01</td>\n",
       "    </tr>\n",
       "    <tr>\n",
       "      <td>1</td>\n",
       "      <td>224472.0640</td>\n",
       "      <td>18034.6604</td>\n",
       "      <td>0.08</td>\n",
       "      <td>2017-11-01</td>\n",
       "    </tr>\n",
       "    <tr>\n",
       "      <td>2</td>\n",
       "      <td>150040.3644</td>\n",
       "      <td>18002.1898</td>\n",
       "      <td>0.12</td>\n",
       "      <td>2017-10-01</td>\n",
       "    </tr>\n",
       "    <tr>\n",
       "      <td>3</td>\n",
       "      <td>157530.3640</td>\n",
       "      <td>17658.4694</td>\n",
       "      <td>0.11</td>\n",
       "      <td>2017-09-01</td>\n",
       "    </tr>\n",
       "    <tr>\n",
       "      <td>4</td>\n",
       "      <td>116100.3320</td>\n",
       "      <td>14920.7708</td>\n",
       "      <td>0.13</td>\n",
       "      <td>2017-08-01</td>\n",
       "    </tr>\n",
       "  </tbody>\n",
       "</table>\n",
       "</div>"
      ],
      "text/plain": [
       "     Doanh_Thu   Loi_Nhuan  Ty_Le_Loi_Nhuan  Thang_Nam\n",
       "0  159982.8736  14860.5060             0.09 2017-12-01\n",
       "1  224472.0640  18034.6604             0.08 2017-11-01\n",
       "2  150040.3644  18002.1898             0.12 2017-10-01\n",
       "3  157530.3640  17658.4694             0.11 2017-09-01\n",
       "4  116100.3320  14920.7708             0.13 2017-08-01"
      ]
     },
     "execution_count": 3,
     "metadata": {},
     "output_type": "execute_result"
    }
   ],
   "source": [
    "#chuyển đổi tháng_năm thành định dạng ngày_tháng_năm\n",
    "cau1['Thang_Nam'] = pd.to_datetime(cau1.Thang_Nam)\n",
    "cau1.head()"
   ]
  },
  {
   "cell_type": "code",
   "execution_count": 4,
   "metadata": {},
   "outputs": [
    {
     "name": "stderr",
     "output_type": "stream",
     "text": [
      "C:\\Users\\Adminis\\Anaconda3\\lib\\site-packages\\pandas\\plotting\\_matplotlib\\converter.py:103: FutureWarning: Using an implicitly registered datetime converter for a matplotlib plotting method. The converter was registered by pandas on import. Future versions of pandas will require you to explicitly register matplotlib converters.\n",
      "\n",
      "To register the converters:\n",
      "\t>>> from pandas.plotting import register_matplotlib_converters\n",
      "\t>>> register_matplotlib_converters()\n",
      "  warnings.warn(msg, FutureWarning)\n"
     ]
    },
    {
     "data": {
      "image/png": "[encoded data removed]",
      "text/plain": [
       "<Figure size 432x288 with 1 Axes>"
      ]
     },
     "metadata": {
      "needs_background": "light"
     },
     "output_type": "display_data"
    }
   ],
   "source": [
    "#plot doanh_thu va loi_nhuan\n",
    "#tao khung plot 2x1 va chon vi tri dau tien\n",
    "plt.subplot(2,1,1)\n",
    "#plot 1 line cho doanh_thu\n",
    "plt.plot(cau1['Thang_Nam'], cau1['Doanh_Thu'],label ='Doanh_Thu', c ='red')\n",
    "#plot 1 line cho loi_nhuan\n",
    "plt.plot(cau1['Thang_Nam'], cau1['Loi_Nhuan'],label ='Loi_Nhuan', c ='blue')\n",
    "#cho hien chu thich\n",
    "plt.legend()\n",
    "plt.title(\"Doanh thu va Loi nhuan cac nam\")\n",
    "#dat ten cho truc X\n",
    "plt.xlabel('Thời Gian')\n",
    "#đặt tên cho trục Y\n",
    "plt.ylabel(\"Tổng Tiền\")\n",
    "#chỉ giữ lại những tháng cố định trên thanh thời gian\n",
    "plt.gca().axes.get_xaxis().set_ticks(['2014','2015', '2016','2017'])\n",
    "plt.show()"
   ]
  },
  {
   "cell_type": "code",
   "execution_count": 5,
   "metadata": {},
   "outputs": [
    {
     "data": {
      "image/png": "[encoded data removed]",
      "text/plain": [
       "<Figure size 432x288 with 1 Axes>"
      ]
     },
     "metadata": {
      "needs_background": "light"
     },
     "output_type": "display_data"
    }
   ],
   "source": [
    "#plot ty_le_loi_nhuan\n",
    "\n",
    "plt.subplot(2,1,2)\n",
    "plt.plot(cau1['Thang_Nam'], cau1.Ty_Le_Loi_Nhuan, label='Ty le loi nhuan', c ='green')\n",
    "plt.title(\"Ty le loi nhuan cac nam\")\n",
    "\n",
    "plt.xlabel('Thoi Gian')\n",
    "plt.ylabel('Ty le')\n",
    "\n",
    "#chi giu lai nhung thang co dinh tren thanh thoi gian\n",
    "plt.gca().axes.get_xaxis().set_ticks(['2014','2015','2016','2017'])\n",
    "\n",
    "\n",
    "plt.legend()\n",
    "plt.show()"
   ]
  },
  {
   "cell_type": "code",
   "execution_count": null,
   "metadata": {},
   "outputs": [],
   "source": []
  }
 ],
 "metadata": {
  "kernelspec": {
   "display_name": "Python 3",
   "language": "python",
   "name": "python3"
  },
  "language_info": {
   "codemirror_mode": {
    "name": "ipython",
    "version": 3
   },
   "file_extension": ".py",
   "mimetype": "text/x-python",
   "name": "python",
   "nbconvert_exporter": "python",
   "pygments_lexer": "ipython3",
   "version": "3.7.4"
  }
 },
 "nbformat": 4,
 "nbformat_minor": 2
}
